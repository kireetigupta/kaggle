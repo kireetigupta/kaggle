{
 "cells": [
  {
   "cell_type": "markdown",
   "metadata": {},
   "source": [
    "# Training word2Vec\n"
   ]
  },
  {
   "cell_type": "code",
   "execution_count": 13,
   "metadata": {
    "collapsed": false
   },
   "outputs": [],
   "source": [
    "import gensim, logging\n",
    "import pandas as pd\n",
    "from bs4 import BeautifulSoup\n",
    "import re\n",
    "from nltk.corpus import stopwords\n",
    "import nltk.data"
   ]
  },
  {
   "cell_type": "code",
   "execution_count": 12,
   "metadata": {
    "collapsed": true
   },
   "outputs": [],
   "source": [
    "def review_to_wordlist( review, remove_stopwords=False ):\n",
    "    # Function to convert a document to a sequence of words,\n",
    "    # optionally removing stop words.  Returns a list of words.\n",
    "    #\n",
    "    # 1. Remove HTML\n",
    "    review_text = BeautifulSoup(review).get_text()\n",
    "    #  \n",
    "    # 2. Remove non-letters\n",
    "    review_text = re.sub(\"[^a-zA-Z]\",\" \", review_text)\n",
    "    #\n",
    "    # 3. Convert words to lower case and split them\n",
    "    words = review_text.lower().split()\n",
    "    #\n",
    "    # 4. Optionally remove stop words (false by default)\n",
    "    if remove_stopwords:\n",
    "        stops = set(stopwords.words(\"english\"))\n",
    "        words = [w for w in words if not w in stops]\n",
    "    #\n",
    "    # 5. Return a list of words\n",
    "    return(words)"
   ]
  },
  {
   "cell_type": "code",
   "execution_count": 15,
   "metadata": {
    "collapsed": true
   },
   "outputs": [],
   "source": [
    "tokenizer = nltk.data.load('tokenizers/punkt/english.pickle')\n",
    "def review_to_sentences( review, tokenizer, remove_stopwords=False ):\n",
    "    # Function to split a review into parsed sentences. Returns a \n",
    "    # list of sentences, where each sentence is a list of words\n",
    "    #\n",
    "    # 1. Use the NLTK tokenizer to split the paragraph into sentences\n",
    "    raw_sentences = tokenizer.tokenize(review.strip())\n",
    "    #\n",
    "    # 2. Loop over each sentence\n",
    "    sentences = []\n",
    "    for raw_sentence in raw_sentences:\n",
    "        # If a sentence is empty, skip it\n",
    "        if len(raw_sentence) > 0:\n",
    "            # Otherwise, call review_to_wordlist to get a list of words\n",
    "            sentences.append( review_to_wordlist( raw_sentence, \\\n",
    "              remove_stopwords ))\n",
    "    #\n",
    "    # Return the list of sentences (each sentence is a list of words,\n",
    "    # so this returns a list of lists\n",
    "    return sentences"
   ]
  },
  {
   "cell_type": "code",
   "execution_count": 9,
   "metadata": {
    "collapsed": false
   },
   "outputs": [],
   "source": [
    "train = pd.read_csv( \"labeledTrainData.tsv\", header=0, \n",
    " delimiter=\"\\t\", quoting=3 )\n",
    "test = pd.read_csv( \"testData.tsv\", header=0, delimiter=\"\\t\", quoting=3 )\n",
    "unlabeled_train = pd.read_csv( \"unlabeledTrainData.tsv\", header=0, \n",
    " delimiter=\"\\t\", quoting=3 )"
   ]
  },
  {
   "cell_type": "code",
   "execution_count": 10,
   "metadata": {
    "collapsed": false
   },
   "outputs": [
    {
     "name": "stdout",
     "output_type": "stream",
     "text": [
      "Read 25000 labeled train reviews, 25000 labeled test reviews, and 50000 unlabeled reviews\n",
      "\n"
     ]
    }
   ],
   "source": [
    "print(\"Read %d labeled train reviews, %d labeled test reviews, \" \\\n",
    " \"and %d unlabeled reviews\\n\" % (train[\"review\"].size,  \n",
    " test[\"review\"].size, unlabeled_train[\"review\"].size ) )"
   ]
  },
  {
   "cell_type": "code",
   "execution_count": 18,
   "metadata": {
    "collapsed": false
   },
   "outputs": [
    {
     "name": "stdout",
     "output_type": "stream",
     "text": [
      "Parsing sentences from training set\n"
     ]
    },
    {
     "name": "stderr",
     "output_type": "stream",
     "text": [
      "/home/kireeti/anaconda3/lib/python3.6/site-packages/bs4/__init__.py:181: UserWarning: No parser was explicitly specified, so I'm using the best available HTML parser for this system (\"lxml\"). This usually isn't a problem, but if you run this code on another system, or in a different virtual environment, it may use a different parser and behave differently.\n",
      "\n",
      "The code that caused this warning is on line 193 of the file /home/kireeti/anaconda3/lib/python3.6/runpy.py. To get rid of this warning, change code that looks like this:\n",
      "\n",
      " BeautifulSoup([your markup])\n",
      "\n",
      "to this:\n",
      "\n",
      " BeautifulSoup([your markup], \"lxml\")\n",
      "\n",
      "  markup_type=markup_type))\n",
      "/home/kireeti/anaconda3/lib/python3.6/site-packages/bs4/__init__.py:219: UserWarning: \"b'.'\" looks like a filename, not markup. You shouldprobably open this file and pass the filehandle intoBeautiful Soup.\n",
      "  'Beautiful Soup.' % markup)\n",
      "/home/kireeti/anaconda3/lib/python3.6/site-packages/bs4/__init__.py:282: UserWarning: \"http://www.happierabroad.com\"\" looks like a URL. Beautiful Soup is not an HTTP client. You should probably use an HTTP client like requests to get the document behind the URL, and feed that document to Beautiful Soup.\n",
      "  ' that document to Beautiful Soup.' % decoded_markup\n"
     ]
    },
    {
     "name": "stdout",
     "output_type": "stream",
     "text": [
      "Parsing sentences from unlabeled set\n"
     ]
    },
    {
     "name": "stderr",
     "output_type": "stream",
     "text": [
      "/home/kireeti/anaconda3/lib/python3.6/site-packages/bs4/__init__.py:282: UserWarning: \"http://www.archive.org/details/LovefromaStranger\"\" looks like a URL. Beautiful Soup is not an HTTP client. You should probably use an HTTP client like requests to get the document behind the URL, and feed that document to Beautiful Soup.\n",
      "  ' that document to Beautiful Soup.' % decoded_markup\n",
      "/home/kireeti/anaconda3/lib/python3.6/site-packages/bs4/__init__.py:282: UserWarning: \"http://www.loosechangeguide.com/LooseChangeGuide.html\"\" looks like a URL. Beautiful Soup is not an HTTP client. You should probably use an HTTP client like requests to get the document behind the URL, and feed that document to Beautiful Soup.\n",
      "  ' that document to Beautiful Soup.' % decoded_markup\n",
      "/home/kireeti/anaconda3/lib/python3.6/site-packages/bs4/__init__.py:282: UserWarning: \"http://www.msnbc.msn.com/id/4972055/site/newsweek/\"\" looks like a URL. Beautiful Soup is not an HTTP client. You should probably use an HTTP client like requests to get the document behind the URL, and feed that document to Beautiful Soup.\n",
      "  ' that document to Beautiful Soup.' % decoded_markup\n",
      "/home/kireeti/anaconda3/lib/python3.6/site-packages/bs4/__init__.py:219: UserWarning: \"b'..'\" looks like a filename, not markup. You shouldprobably open this file and pass the filehandle intoBeautiful Soup.\n",
      "  'Beautiful Soup.' % markup)\n",
      "/home/kireeti/anaconda3/lib/python3.6/site-packages/bs4/__init__.py:282: UserWarning: \"http://www.youtube.com/watch?v=a0KSqelmgN8\"\" looks like a URL. Beautiful Soup is not an HTTP client. You should probably use an HTTP client like requests to get the document behind the URL, and feed that document to Beautiful Soup.\n",
      "  ' that document to Beautiful Soup.' % decoded_markup\n",
      "/home/kireeti/anaconda3/lib/python3.6/site-packages/bs4/__init__.py:282: UserWarning: \"http://jake-weird.blogspot.com/2007/08/beneath.html\"\" looks like a URL. Beautiful Soup is not an HTTP client. You should probably use an HTTP client like requests to get the document behind the URL, and feed that document to Beautiful Soup.\n",
      "  ' that document to Beautiful Soup.' % decoded_markup\n"
     ]
    }
   ],
   "source": [
    "sentences = []  # Initialize an empty list of sentences\n",
    "\n",
    "print(\"Parsing sentences from training set\")\n",
    "for review in train[\"review\"]:\n",
    "    sentences += review_to_sentences(review, tokenizer)\n",
    "\n",
    "print(\"Parsing sentences from unlabeled set\")\n",
    "for review in unlabeled_train[\"review\"]:\n",
    "    sentences += review_to_sentences(review, tokenizer)\n"
   ]
  },
  {
   "cell_type": "code",
   "execution_count": 21,
   "metadata": {
    "collapsed": false
   },
   "outputs": [
    {
     "name": "stderr",
     "output_type": "stream",
     "text": [
      "2018-02-12 01:56:16,625 : INFO : collecting all words and their counts\n",
      "2018-02-12 01:56:16,628 : INFO : PROGRESS: at sentence #0, processed 0 words, keeping 0 word types\n",
      "2018-02-12 01:56:16,749 : INFO : PROGRESS: at sentence #10000, processed 225803 words, keeping 17776 word types\n",
      "2018-02-12 01:56:16,801 : INFO : PROGRESS: at sentence #20000, processed 451892 words, keeping 24948 word types\n"
     ]
    },
    {
     "name": "stdout",
     "output_type": "stream",
     "text": [
      "Training model...\n"
     ]
    },
    {
     "name": "stderr",
     "output_type": "stream",
     "text": [
      "2018-02-12 01:56:16,848 : INFO : PROGRESS: at sentence #30000, processed 671315 words, keeping 30034 word types\n",
      "2018-02-12 01:56:16,899 : INFO : PROGRESS: at sentence #40000, processed 897815 words, keeping 34348 word types\n",
      "2018-02-12 01:56:16,948 : INFO : PROGRESS: at sentence #50000, processed 1116963 words, keeping 37761 word types\n",
      "2018-02-12 01:56:16,996 : INFO : PROGRESS: at sentence #60000, processed 1338404 words, keeping 40723 word types\n",
      "2018-02-12 01:56:17,045 : INFO : PROGRESS: at sentence #70000, processed 1561580 words, keeping 43333 word types\n",
      "2018-02-12 01:56:17,095 : INFO : PROGRESS: at sentence #80000, processed 1780887 words, keeping 45714 word types\n",
      "2018-02-12 01:56:17,144 : INFO : PROGRESS: at sentence #90000, processed 2004996 words, keeping 48135 word types\n",
      "2018-02-12 01:56:17,193 : INFO : PROGRESS: at sentence #100000, processed 2226966 words, keeping 50207 word types\n",
      "2018-02-12 01:56:17,241 : INFO : PROGRESS: at sentence #110000, processed 2446580 words, keeping 52081 word types\n",
      "2018-02-12 01:56:17,290 : INFO : PROGRESS: at sentence #120000, processed 2668775 words, keeping 54119 word types\n",
      "2018-02-12 01:56:17,343 : INFO : PROGRESS: at sentence #130000, processed 2894303 words, keeping 55847 word types\n",
      "2018-02-12 01:56:17,388 : INFO : PROGRESS: at sentence #140000, processed 3107005 words, keeping 57346 word types\n",
      "2018-02-12 01:56:17,440 : INFO : PROGRESS: at sentence #150000, processed 3332627 words, keeping 59055 word types\n",
      "2018-02-12 01:56:17,491 : INFO : PROGRESS: at sentence #160000, processed 3555315 words, keeping 60617 word types\n",
      "2018-02-12 01:56:17,543 : INFO : PROGRESS: at sentence #170000, processed 3778655 words, keeping 62077 word types\n",
      "2018-02-12 01:56:17,593 : INFO : PROGRESS: at sentence #180000, processed 3999236 words, keeping 63496 word types\n",
      "2018-02-12 01:56:17,644 : INFO : PROGRESS: at sentence #190000, processed 4224449 words, keeping 64794 word types\n",
      "2018-02-12 01:56:17,694 : INFO : PROGRESS: at sentence #200000, processed 4448603 words, keeping 66087 word types\n",
      "2018-02-12 01:56:17,743 : INFO : PROGRESS: at sentence #210000, processed 4669967 words, keeping 67390 word types\n",
      "2018-02-12 01:56:17,798 : INFO : PROGRESS: at sentence #220000, processed 4894968 words, keeping 68697 word types\n",
      "2018-02-12 01:56:17,852 : INFO : PROGRESS: at sentence #230000, processed 5117545 words, keeping 69958 word types\n",
      "2018-02-12 01:56:17,905 : INFO : PROGRESS: at sentence #240000, processed 5345050 words, keeping 71167 word types\n",
      "2018-02-12 01:56:17,955 : INFO : PROGRESS: at sentence #250000, processed 5559165 words, keeping 72351 word types\n",
      "2018-02-12 01:56:18,009 : INFO : PROGRESS: at sentence #260000, processed 5779146 words, keeping 73478 word types\n",
      "2018-02-12 01:56:18,067 : INFO : PROGRESS: at sentence #270000, processed 6000435 words, keeping 74767 word types\n",
      "2018-02-12 01:56:18,120 : INFO : PROGRESS: at sentence #280000, processed 6226314 words, keeping 76369 word types\n",
      "2018-02-12 01:56:18,170 : INFO : PROGRESS: at sentence #290000, processed 6449474 words, keeping 77839 word types\n",
      "2018-02-12 01:56:18,219 : INFO : PROGRESS: at sentence #300000, processed 6674077 words, keeping 79171 word types\n",
      "2018-02-12 01:56:18,270 : INFO : PROGRESS: at sentence #310000, processed 6899391 words, keeping 80480 word types\n",
      "2018-02-12 01:56:18,323 : INFO : PROGRESS: at sentence #320000, processed 7124278 words, keeping 81808 word types\n",
      "2018-02-12 01:56:18,371 : INFO : PROGRESS: at sentence #330000, processed 7346021 words, keeping 83030 word types\n",
      "2018-02-12 01:56:18,425 : INFO : PROGRESS: at sentence #340000, processed 7575533 words, keeping 84280 word types\n",
      "2018-02-12 01:56:18,479 : INFO : PROGRESS: at sentence #350000, processed 7798803 words, keeping 85425 word types\n",
      "2018-02-12 01:56:18,531 : INFO : PROGRESS: at sentence #360000, processed 8019427 words, keeping 86596 word types\n",
      "2018-02-12 01:56:18,589 : INFO : PROGRESS: at sentence #370000, processed 8246619 words, keeping 87708 word types\n",
      "2018-02-12 01:56:18,641 : INFO : PROGRESS: at sentence #380000, processed 8471766 words, keeping 88878 word types\n",
      "2018-02-12 01:56:18,694 : INFO : PROGRESS: at sentence #390000, processed 8701497 words, keeping 89907 word types\n",
      "2018-02-12 01:56:18,743 : INFO : PROGRESS: at sentence #400000, processed 8924446 words, keeping 90916 word types\n",
      "2018-02-12 01:56:18,792 : INFO : PROGRESS: at sentence #410000, processed 9145796 words, keeping 91880 word types\n",
      "2018-02-12 01:56:18,845 : INFO : PROGRESS: at sentence #420000, processed 9366876 words, keeping 92912 word types\n",
      "2018-02-12 01:56:18,899 : INFO : PROGRESS: at sentence #430000, processed 9594413 words, keeping 93932 word types\n",
      "2018-02-12 01:56:18,952 : INFO : PROGRESS: at sentence #440000, processed 9821166 words, keeping 94906 word types\n",
      "2018-02-12 01:56:19,005 : INFO : PROGRESS: at sentence #450000, processed 10044928 words, keeping 96036 word types\n",
      "2018-02-12 01:56:19,062 : INFO : PROGRESS: at sentence #460000, processed 10277688 words, keeping 97088 word types\n",
      "2018-02-12 01:56:19,117 : INFO : PROGRESS: at sentence #470000, processed 10505613 words, keeping 97933 word types\n",
      "2018-02-12 01:56:19,166 : INFO : PROGRESS: at sentence #480000, processed 10725997 words, keeping 98862 word types\n",
      "2018-02-12 01:56:19,216 : INFO : PROGRESS: at sentence #490000, processed 10952741 words, keeping 99871 word types\n",
      "2018-02-12 01:56:19,265 : INFO : PROGRESS: at sentence #500000, processed 11174397 words, keeping 100765 word types\n",
      "2018-02-12 01:56:19,317 : INFO : PROGRESS: at sentence #510000, processed 11399672 words, keeping 101699 word types\n",
      "2018-02-12 01:56:19,365 : INFO : PROGRESS: at sentence #520000, processed 11623020 words, keeping 102598 word types\n",
      "2018-02-12 01:56:19,414 : INFO : PROGRESS: at sentence #530000, processed 11847418 words, keeping 103400 word types\n",
      "2018-02-12 01:56:19,462 : INFO : PROGRESS: at sentence #540000, processed 12072033 words, keeping 104265 word types\n",
      "2018-02-12 01:56:19,511 : INFO : PROGRESS: at sentence #550000, processed 12297571 words, keeping 105133 word types\n",
      "2018-02-12 01:56:19,562 : INFO : PROGRESS: at sentence #560000, processed 12518861 words, keeping 105997 word types\n",
      "2018-02-12 01:56:19,612 : INFO : PROGRESS: at sentence #570000, processed 12747916 words, keeping 106787 word types\n",
      "2018-02-12 01:56:19,660 : INFO : PROGRESS: at sentence #580000, processed 12969412 words, keeping 107665 word types\n",
      "2018-02-12 01:56:19,709 : INFO : PROGRESS: at sentence #590000, processed 13194937 words, keeping 108501 word types\n",
      "2018-02-12 01:56:19,757 : INFO : PROGRESS: at sentence #600000, processed 13417135 words, keeping 109218 word types\n",
      "2018-02-12 01:56:19,807 : INFO : PROGRESS: at sentence #610000, processed 13638158 words, keeping 110092 word types\n",
      "2018-02-12 01:56:19,856 : INFO : PROGRESS: at sentence #620000, processed 13864483 words, keeping 110837 word types\n",
      "2018-02-12 01:56:19,905 : INFO : PROGRESS: at sentence #630000, processed 14088769 words, keeping 111610 word types\n",
      "2018-02-12 01:56:19,952 : INFO : PROGRESS: at sentence #640000, processed 14309552 words, keeping 112416 word types\n",
      "2018-02-12 01:56:20,003 : INFO : PROGRESS: at sentence #650000, processed 14535308 words, keeping 113196 word types\n",
      "2018-02-12 01:56:20,057 : INFO : PROGRESS: at sentence #660000, processed 14758098 words, keeping 113945 word types\n",
      "2018-02-12 01:56:20,107 : INFO : PROGRESS: at sentence #670000, processed 14981482 words, keeping 114643 word types\n",
      "2018-02-12 01:56:20,157 : INFO : PROGRESS: at sentence #680000, processed 15206314 words, keeping 115354 word types\n",
      "2018-02-12 01:56:20,207 : INFO : PROGRESS: at sentence #690000, processed 15428507 words, keeping 116131 word types\n",
      "2018-02-12 01:56:20,259 : INFO : PROGRESS: at sentence #700000, processed 15657213 words, keeping 116943 word types\n",
      "2018-02-12 01:56:20,312 : INFO : PROGRESS: at sentence #710000, processed 15880202 words, keeping 117596 word types\n",
      "2018-02-12 01:56:20,364 : INFO : PROGRESS: at sentence #720000, processed 16105489 words, keeping 118221 word types\n",
      "2018-02-12 01:56:20,415 : INFO : PROGRESS: at sentence #730000, processed 16331870 words, keeping 118954 word types\n",
      "2018-02-12 01:56:20,465 : INFO : PROGRESS: at sentence #740000, processed 16552903 words, keeping 119668 word types\n",
      "2018-02-12 01:56:20,513 : INFO : PROGRESS: at sentence #750000, processed 16771230 words, keeping 120295 word types\n",
      "2018-02-12 01:56:20,565 : INFO : PROGRESS: at sentence #760000, processed 16990622 words, keeping 120930 word types\n",
      "2018-02-12 01:56:20,615 : INFO : PROGRESS: at sentence #770000, processed 17217759 words, keeping 121703 word types\n",
      "2018-02-12 01:56:20,665 : INFO : PROGRESS: at sentence #780000, processed 17447905 words, keeping 122402 word types\n",
      "2018-02-12 01:56:20,714 : INFO : PROGRESS: at sentence #790000, processed 17674981 words, keeping 123066 word types\n",
      "2018-02-12 01:56:20,741 : INFO : collected 123504 word types from a corpus of 17798082 raw words and 795538 sentences\n",
      "2018-02-12 01:56:20,742 : INFO : Loading a fresh vocabulary\n",
      "2018-02-12 01:56:20,796 : INFO : min_count=40 retains 16490 unique words (13% of original 123504, drops 107014)\n",
      "2018-02-12 01:56:20,796 : INFO : min_count=40 leaves 17238940 word corpus (96% of original 17798082, drops 559142)\n",
      "2018-02-12 01:56:20,830 : INFO : deleting the raw counts dictionary of 123504 items\n",
      "2018-02-12 01:56:20,832 : INFO : sample=0.001 downsamples 48 most-common words\n",
      "2018-02-12 01:56:20,832 : INFO : downsampling leaves estimated 12749658 word corpus (74.0% of prior 17238940)\n",
      "2018-02-12 01:56:20,833 : INFO : estimated required memory for 16490 words and 300 dimensions: 47821000 bytes\n",
      "2018-02-12 01:56:20,866 : INFO : resetting layer weights\n",
      "2018-02-12 01:56:21,022 : INFO : training model with 4 workers on 16490 vocabulary and 300 features, using sg=0 hs=0 sample=0.001 negative=5 window=10\n",
      "2018-02-12 01:56:22,037 : INFO : PROGRESS: at 1.88% examples, 1181080 words/s, in_qsize 7, out_qsize 0\n",
      "2018-02-12 01:56:23,039 : INFO : PROGRESS: at 3.82% examples, 1200868 words/s, in_qsize 7, out_qsize 0\n",
      "2018-02-12 01:56:24,040 : INFO : PROGRESS: at 5.67% examples, 1192999 words/s, in_qsize 7, out_qsize 0\n",
      "2018-02-12 01:56:25,052 : INFO : PROGRESS: at 7.50% examples, 1180640 words/s, in_qsize 8, out_qsize 1\n",
      "2018-02-12 01:56:26,055 : INFO : PROGRESS: at 9.39% examples, 1185427 words/s, in_qsize 8, out_qsize 0\n",
      "2018-02-12 01:56:27,060 : INFO : PROGRESS: at 11.28% examples, 1188320 words/s, in_qsize 7, out_qsize 0\n",
      "2018-02-12 01:56:28,066 : INFO : PROGRESS: at 13.13% examples, 1187185 words/s, in_qsize 7, out_qsize 0\n",
      "2018-02-12 01:56:29,075 : INFO : PROGRESS: at 14.97% examples, 1185077 words/s, in_qsize 7, out_qsize 0\n",
      "2018-02-12 01:56:30,077 : INFO : PROGRESS: at 16.80% examples, 1182554 words/s, in_qsize 7, out_qsize 1\n",
      "2018-02-12 01:56:31,078 : INFO : PROGRESS: at 18.71% examples, 1186414 words/s, in_qsize 7, out_qsize 0\n",
      "2018-02-12 01:56:32,082 : INFO : PROGRESS: at 20.70% examples, 1193329 words/s, in_qsize 8, out_qsize 0\n",
      "2018-02-12 01:56:33,088 : INFO : PROGRESS: at 22.58% examples, 1192807 words/s, in_qsize 7, out_qsize 0\n",
      "2018-02-12 01:56:34,096 : INFO : PROGRESS: at 24.63% examples, 1199788 words/s, in_qsize 7, out_qsize 0\n",
      "2018-02-12 01:56:35,101 : INFO : PROGRESS: at 26.63% examples, 1203925 words/s, in_qsize 7, out_qsize 0\n",
      "2018-02-12 01:56:36,105 : INFO : PROGRESS: at 28.58% examples, 1206791 words/s, in_qsize 7, out_qsize 0\n",
      "2018-02-12 01:56:37,108 : INFO : PROGRESS: at 30.60% examples, 1211608 words/s, in_qsize 7, out_qsize 0\n",
      "2018-02-12 01:56:38,110 : INFO : PROGRESS: at 32.55% examples, 1214178 words/s, in_qsize 7, out_qsize 0\n",
      "2018-02-12 01:56:39,110 : INFO : PROGRESS: at 34.53% examples, 1217019 words/s, in_qsize 7, out_qsize 0\n",
      "2018-02-12 01:56:40,120 : INFO : PROGRESS: at 36.40% examples, 1214822 words/s, in_qsize 7, out_qsize 0\n",
      "2018-02-12 01:56:41,122 : INFO : PROGRESS: at 38.34% examples, 1216147 words/s, in_qsize 7, out_qsize 0\n",
      "2018-02-12 01:56:42,125 : INFO : PROGRESS: at 40.26% examples, 1216308 words/s, in_qsize 7, out_qsize 0\n",
      "2018-02-12 01:56:43,134 : INFO : PROGRESS: at 41.98% examples, 1210281 words/s, in_qsize 7, out_qsize 0\n",
      "2018-02-12 01:56:44,136 : INFO : PROGRESS: at 43.59% examples, 1201798 words/s, in_qsize 8, out_qsize 0\n",
      "2018-02-12 01:56:45,136 : INFO : PROGRESS: at 45.27% examples, 1196144 words/s, in_qsize 7, out_qsize 0\n",
      "2018-02-12 01:56:46,139 : INFO : PROGRESS: at 47.20% examples, 1197023 words/s, in_qsize 7, out_qsize 0\n",
      "2018-02-12 01:56:47,144 : INFO : PROGRESS: at 49.10% examples, 1197530 words/s, in_qsize 7, out_qsize 0\n",
      "2018-02-12 01:56:48,144 : INFO : PROGRESS: at 50.96% examples, 1197412 words/s, in_qsize 7, out_qsize 0\n",
      "2018-02-12 01:56:49,148 : INFO : PROGRESS: at 52.73% examples, 1195074 words/s, in_qsize 7, out_qsize 0\n",
      "2018-02-12 01:56:50,152 : INFO : PROGRESS: at 54.66% examples, 1196137 words/s, in_qsize 7, out_qsize 0\n",
      "2018-02-12 01:56:51,156 : INFO : PROGRESS: at 56.61% examples, 1197573 words/s, in_qsize 7, out_qsize 0\n",
      "2018-02-12 01:56:52,165 : INFO : PROGRESS: at 58.54% examples, 1198253 words/s, in_qsize 7, out_qsize 0\n",
      "2018-02-12 01:56:53,168 : INFO : PROGRESS: at 60.46% examples, 1199145 words/s, in_qsize 7, out_qsize 0\n",
      "2018-02-12 01:56:54,172 : INFO : PROGRESS: at 62.35% examples, 1198816 words/s, in_qsize 7, out_qsize 0\n",
      "2018-02-12 01:56:55,174 : INFO : PROGRESS: at 64.28% examples, 1199478 words/s, in_qsize 7, out_qsize 0\n",
      "2018-02-12 01:56:56,177 : INFO : PROGRESS: at 66.08% examples, 1197766 words/s, in_qsize 8, out_qsize 2\n",
      "2018-02-12 01:56:57,183 : INFO : PROGRESS: at 68.05% examples, 1199011 words/s, in_qsize 7, out_qsize 0\n",
      "2018-02-12 01:56:58,185 : INFO : PROGRESS: at 69.96% examples, 1199790 words/s, in_qsize 7, out_qsize 0\n",
      "2018-02-12 01:56:59,185 : INFO : PROGRESS: at 71.79% examples, 1199067 words/s, in_qsize 7, out_qsize 0\n",
      "2018-02-12 01:57:00,197 : INFO : PROGRESS: at 73.72% examples, 1199467 words/s, in_qsize 7, out_qsize 0\n",
      "2018-02-12 01:57:01,198 : INFO : PROGRESS: at 75.61% examples, 1199678 words/s, in_qsize 7, out_qsize 0\n",
      "2018-02-12 01:57:02,198 : INFO : PROGRESS: at 77.53% examples, 1200237 words/s, in_qsize 7, out_qsize 0\n",
      "2018-02-12 01:57:03,200 : INFO : PROGRESS: at 79.42% examples, 1200370 words/s, in_qsize 7, out_qsize 0\n",
      "2018-02-12 01:57:04,202 : INFO : PROGRESS: at 81.20% examples, 1198858 words/s, in_qsize 7, out_qsize 0\n",
      "2018-02-12 01:57:05,205 : INFO : PROGRESS: at 83.15% examples, 1199494 words/s, in_qsize 7, out_qsize 0\n",
      "2018-02-12 01:57:06,206 : INFO : PROGRESS: at 85.06% examples, 1199678 words/s, in_qsize 7, out_qsize 0\n",
      "2018-02-12 01:57:07,212 : INFO : PROGRESS: at 87.01% examples, 1200310 words/s, in_qsize 7, out_qsize 0\n",
      "2018-02-12 01:57:08,224 : INFO : PROGRESS: at 88.95% examples, 1200789 words/s, in_qsize 8, out_qsize 0\n",
      "2018-02-12 01:57:09,227 : INFO : PROGRESS: at 90.79% examples, 1200249 words/s, in_qsize 7, out_qsize 0\n",
      "2018-02-12 01:57:10,235 : INFO : PROGRESS: at 92.70% examples, 1200683 words/s, in_qsize 7, out_qsize 0\n",
      "2018-02-12 01:57:11,235 : INFO : PROGRESS: at 94.59% examples, 1200841 words/s, in_qsize 7, out_qsize 0\n",
      "2018-02-12 01:57:12,237 : INFO : PROGRESS: at 96.52% examples, 1201364 words/s, in_qsize 7, out_qsize 0\n",
      "2018-02-12 01:57:13,239 : INFO : PROGRESS: at 98.42% examples, 1201611 words/s, in_qsize 7, out_qsize 0\n",
      "2018-02-12 01:57:14,071 : INFO : worker thread finished; awaiting finish of 3 more threads\n",
      "2018-02-12 01:57:14,076 : INFO : worker thread finished; awaiting finish of 2 more threads\n",
      "2018-02-12 01:57:14,085 : INFO : worker thread finished; awaiting finish of 1 more threads\n",
      "2018-02-12 01:57:14,094 : INFO : worker thread finished; awaiting finish of 0 more threads\n",
      "2018-02-12 01:57:14,094 : INFO : training on 88990410 raw words (63747111 effective words) took 53.1s, 1201229 effective words/s\n",
      "2018-02-12 01:57:14,095 : INFO : precomputing L2-norms of word weight vectors\n",
      "2018-02-12 01:57:14,211 : INFO : saving Word2Vec object under 300features_40minwords_10context, separately None\n",
      "2018-02-12 01:57:14,212 : INFO : not storing attribute syn0norm\n",
      "2018-02-12 01:57:14,212 : INFO : not storing attribute cum_table\n",
      "2018-02-12 01:57:14,410 : INFO : saved 300features_40minwords_10context\n"
     ]
    }
   ],
   "source": [
    "import logging\n",
    "logging.basicConfig(format='%(asctime)s : %(levelname)s : %(message)s',\\\n",
    "    level=logging.INFO)\n",
    "num_features = 300    # Word vector dimensionality                      \n",
    "min_word_count = 40   # Minimum word count                        \n",
    "num_workers = 4       # Number of threads to run in parallel\n",
    "context = 10          # Context window size                                                                                    \n",
    "downsampling = 1e-3   # Downsample setting for frequent words\n",
    "from gensim.models import word2vec\n",
    "print(\"Training model...\")\n",
    "model = word2vec.Word2Vec(sentences, workers=num_workers, \\\n",
    "            size=num_features, min_count = min_word_count, \\\n",
    "            window = context, sample = downsampling)\n",
    "model.init_sims(replace=True)\n",
    "model_name = \"300features_40minwords_10context\"\n",
    "model.save(model_name)"
   ]
  },
  {
   "cell_type": "code",
   "execution_count": 25,
   "metadata": {
    "collapsed": false
   },
   "outputs": [
    {
     "data": {
      "text/plain": [
       "'bat'"
      ]
     },
     "execution_count": 25,
     "metadata": {},
     "output_type": "execute_result"
    }
   ],
   "source": [
    "model.doesnt_match(\"boy girl bat\".split())"
   ]
  },
  {
   "cell_type": "code",
   "execution_count": null,
   "metadata": {
    "collapsed": false
   },
   "outputs": [],
   "source": []
  }
 ],
 "metadata": {
  "kernelspec": {
   "display_name": "Python 3",
   "language": "python",
   "name": "python3"
  },
  "language_info": {
   "codemirror_mode": {
    "name": "ipython",
    "version": 3
   },
   "file_extension": ".py",
   "mimetype": "text/x-python",
   "name": "python",
   "nbconvert_exporter": "python",
   "pygments_lexer": "ipython3",
   "version": "3.6.0"
  }
 },
 "nbformat": 4,
 "nbformat_minor": 2
}
