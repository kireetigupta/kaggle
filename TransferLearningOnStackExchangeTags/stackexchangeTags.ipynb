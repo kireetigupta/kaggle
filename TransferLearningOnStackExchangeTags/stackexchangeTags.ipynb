{
 "cells": [
  {
   "cell_type": "code",
   "execution_count": 1,
   "metadata": {
    "collapsed": true
   },
   "outputs": [],
   "source": [
    "import pandas as pd\n",
    "import numpy as np\n",
    "from bs4 import BeautifulSoup\n",
    "from nltk.corpus import stopwords\n",
    "import nltk\n",
    "import re\n",
    "import string\n"
   ]
  },
  {
   "cell_type": "markdown",
   "metadata": {},
   "source": [
    "# global variables"
   ]
  },
  {
   "cell_type": "code",
   "execution_count": 2,
   "metadata": {
    "collapsed": true
   },
   "outputs": [],
   "source": [
    "uri_re = r'(?i)\\b((?:https?://|www\\d{0,3}[.]|[a-z0-9.\\-]+[.][a-z]{2,4}/)(?:[^\\s()<>]+|\\(([^\\s()<>]+|(\\([^\\s()<>]+\\)))*\\))+(?:\\(([^\\s()<>]+|(\\([^\\s()<>]+\\)))*\\)|[^\\s`!()\\[\\]{};:\\'\".,<>?«»“”‘’]))'\n"
   ]
  },
  {
   "cell_type": "markdown",
   "metadata": {},
   "source": [
    "# Reading data"
   ]
  },
  {
   "cell_type": "code",
   "execution_count": null,
   "metadata": {
    "collapsed": true
   },
   "outputs": [],
   "source": []
  },
  {
   "cell_type": "markdown",
   "metadata": {},
   "source": [
    "# Util functions"
   ]
  },
  {
   "cell_type": "code",
   "execution_count": 3,
   "metadata": {
    "collapsed": true
   },
   "outputs": [],
   "source": [
    "def stripTagsURI(x):\n",
    "    result=x\n",
    "    if x:\n",
    "        #strip tags\n",
    "        soup=BeautifulSoup(x, \"html.parser\")\n",
    "        result=soup.get_text()\n",
    "        #strip uris\n",
    "        return re.sub(uri_re, \"\", result)\n",
    "    else:\n",
    "        return \"\""
   ]
  },
  {
   "cell_type": "code",
   "execution_count": 4,
   "metadata": {
    "collapsed": true
   },
   "outputs": [],
   "source": [
    "def removePunct(x):\n",
    "    if x:\n",
    "        #lower\n",
    "        x=x.lower()\n",
    "        #remove non-ascii\n",
    "        result=re.sub(r'[^\\x00-\\x7f]',r' ',x)\n",
    "        #remove punct\n",
    "        result=re.sub('['+string.punctuation+']',' ',result)\n",
    "        return result\n",
    "    else:\n",
    "        return \" \""
   ]
  },
  {
   "cell_type": "code",
   "execution_count": 5,
   "metadata": {},
   "outputs": [
    {
     "data": {
      "text/plain": [
       "'I letter'"
      ]
     },
     "execution_count": 5,
     "metadata": {},
     "output_type": "execute_result"
    }
   ],
   "source": [
    "def removeStopWords(x):\n",
    "    stop=set(stopwords.words(\"english\"))\n",
    "    result=[x for x in x.split(\" \") if x not in stop]\n",
    "    \n",
    "    return \" \".join(result)\n",
    "    #return result\n",
    "removeStopWords(\"I is a letter\")"
   ]
  },
  {
   "cell_type": "code",
   "execution_count": 6,
   "metadata": {
    "collapsed": true
   },
   "outputs": [],
   "source": [
    "def listTags(x):\n",
    "    tags = [y for y in x.split(\" \")]\n",
    "    tags=[tag.replace('-',' ') for tag in tags]\n",
    "    return tags"
   ]
  },
  {
   "cell_type": "code",
   "execution_count": 7,
   "metadata": {},
   "outputs": [
    {
     "name": "stdout",
     "output_type": "stream",
     "text": [
      "['kireeti gupta', 'is', 'a', 'good boy']\n"
     ]
    }
   ],
   "source": [
    "print(listTags('kireeti-gupta is a good-boy'))"
   ]
  },
  {
   "cell_type": "markdown",
   "metadata": {},
   "source": [
    "# process data"
   ]
  },
  {
   "cell_type": "code",
   "execution_count": 8,
   "metadata": {
    "collapsed": true
   },
   "outputs": [],
   "source": [
    "df={\"diy\":pd.read_csv(\"./diy.csv\"),\"travel\":pd.read_csv(\"./travel.csv\"),\"robo\":pd.read_csv(\"robotics.csv\"),\"bio\":pd.read_csv(\"./biology.csv\")}"
   ]
  },
  {
   "cell_type": "code",
   "execution_count": 9,
   "metadata": {},
   "outputs": [
    {
     "name": "stdout",
     "output_type": "stream",
     "text": [
      "          id                                              title  \\\n",
      "0          1  How do I install a new, non load bearing wall ...   \n",
      "1          2  What kind of caulk should I use around my bath...   \n",
      "2          3  Is fiberglass mesh tape a good choice for dryw...   \n",
      "3          4  Are there ways to determine if a wall is load ...   \n",
      "4          5  How do I safely replace a worn out electrical ...   \n",
      "5          6         How do I repair hairline cracks in stucco?   \n",
      "6          7  Where can I find a bathroom fan that will fit ...   \n",
      "7         10  How do I repair a small leak in a steam radiat...   \n",
      "8         11            How do I remove wallpaper from drywall?   \n",
      "9         16  What do I need to do to add stools to my vinyl...   \n",
      "10        17  How can I hanging something on an exterior wal...   \n",
      "11        18       How can I fill a void in a concrete seawall?   \n",
      "12        19  How to drain a baseboard radiator system for a...   \n",
      "13        20       Should old knob and tube wiring be replaced?   \n",
      "14        21  How do I find studs when stud finders won't work?   \n",
      "15        23  What do I have to do to prepare my garage floo...   \n",
      "16        25  What is the difference between a framing hamme...   \n",
      "17        26  How do I remove dried paint from ceramic tiles...   \n",
      "18        28  How do I remove the white residue on fresh til...   \n",
      "19        30        Why does my toilet's seal wear out so fast?   \n",
      "20        31  What are my options for asphalt driveway repai...   \n",
      "21        35  Is there a trick to applying caulk using a cau...   \n",
      "22        36  How can I paint over a ceiling after there's b...   \n",
      "23        39  What are my lighting options for a pole-barn g...   \n",
      "24        42  What is a good method to seal a baseboard to s...   \n",
      "25        48                    How can I repair a Palruf roof?   \n",
      "26        53  What are the tools that every Do-it-Yourselfer...   \n",
      "27        56                     Does liquid aerification work?   \n",
      "28        61         Which water heater types do you recommend?   \n",
      "29        65  How can I pour a concrete pad with a circular ...   \n",
      "...      ...                                                ...   \n",
      "25888  98594  Washer / Dryer suddenly popping house electric...   \n",
      "25889  98596  How can I troubleshoot faulty carbon monoxide ...   \n",
      "25890  98598                        remove a recessed light can   \n",
      "25891  98601  3Way Occupancy Sensor Switch NO neutral or gro...   \n",
      "25892  98606              How to repair my concrete slab porch.   \n",
      "25893  98610       Wiring extension cord for 240 volt generator   \n",
      "25894  98611  could air in the line cause drop in water pres...   \n",
      "25895  98617  To identify model of Liftmaster garage door op...   \n",
      "25896  98620  What could cause my washing machine to stop be...   \n",
      "25897  98622             How to tell if my led strip is busted?   \n",
      "25898  98623  Simpson Delta 422 washing machine - only agita...   \n",
      "25899  98624                    Vapor barrier on exterior walls   \n",
      "25900  98627                      How to reduce echo in a room?   \n",
      "25901  98628                Customising DeWalt TSTAK IV drawers   \n",
      "25902  98634                             Strange water pressure   \n",
      "25903  98635      Silicon or rubber protection for kitchen base   \n",
      "25904  98642                      Removing carpenter ant colony   \n",
      "25905  98645                              Led lights on sensors   \n",
      "25906  98646  Replacing kitchen sink, hot water valve under ...   \n",
      "25907  98647    Pairing door knobs from different manufacturers   \n",
      "25908  98648                  Concrete subfloor with 2x4 on top   \n",
      "25909  98650  For a single 12-2 NM cable, what hole size sho...   \n",
      "25910  98656  C WIRE MISSING, Trane Air-Handler Variable 4TEE3F   \n",
      "25911  98658    Plug socket won't turn off even after replacing   \n",
      "25912  98659  Is it safe to wire a light junction box to a p...   \n",
      "25913  98662  How to prevent standing water collecting at th...   \n",
      "25914  98663                            selectable thermostats?   \n",
      "25915  98665             measuring power drawn from an inverter   \n",
      "25916  98670  Old oil forced air heat only system (R/W wire ...   \n",
      "25917  98674                Light stays on even with switch off   \n",
      "\n",
      "                                                 content  \\\n",
      "0      <p>I'm looking to finish my basement and simpl...   \n",
      "1      <p>I would like to recaulk between the bathtub...   \n",
      "2      <p>I'm going to be doing some drywalling short...   \n",
      "3      <p>Other than looking up blue prints, which ma...   \n",
      "4      <p>I have a number of outlets that are old and...   \n",
      "5      <p>The exterior walls on my house which is mad...   \n",
      "6      <p>The fan in the master-bathroom of my house ...   \n",
      "7      <p>One of my steam radiators has a small leak ...   \n",
      "8      <p>I know there are a lot of different ways to...   \n",
      "9      <p>I own a \"cookie cutter\" house built in 2006...   \n",
      "10     <p>My house has vinyl siding.  If I want to ha...   \n",
      "11     <p>My concrete seawall (on a freshwater lake) ...   \n",
      "12     <p>I have a leak in the second zone in my base...   \n",
      "13     <p>I have been doing some electrical work in m...   \n",
      "14     <p>I was trying to hang my TV at my new place,...   \n",
      "15     <p>I'd like to paint my garage floor, possibly...   \n",
      "16     <p>What is the difference between a framing ha...   \n",
      "17     <p>The previous owner didn't bother to lay dow...   \n",
      "18     <p>The day after grouting my tile, a white res...   \n",
      "19     <p>The toilet in our only bathroom seems to go...   \n",
      "20     <p>I live in New England and my asphalt drivew...   \n",
      "21     <p>Perhaps it is just me, but no matter how ca...   \n",
      "22     <p>We had a leak in our upstairs bathroom, abo...   \n",
      "23     <p>I just added on to my pole-barn garage, it ...   \n",
      "24     <p>Probably, due to faulty insulation/damp bar...   \n",
      "25     <p>I've installed a couple of transparent <a h...   \n",
      "26     <p>What are the tools that every DIY'er should...   \n",
      "27     <p>I have terrible soil in my yard, because th...   \n",
      "28     <p>I would like to upgrade my current water he...   \n",
      "29     <p>Essentially, I'd like to put down a concret...   \n",
      "...                                                  ...   \n",
      "25888  <p>I have a Whirlpool duet front loader washer...   \n",
      "25889  <p>This is kind of an odd one. Recently, my al...   \n",
      "25890  <p>i have old (late 1980's) recessed lighting....   \n",
      "25891  <p>I'm looking to add an occupancy sensor swit...   \n",
      "25892  <p>I bought this house a few years ago, built ...   \n",
      "25893  <p>I have a 240 volt gas generator that has a ...   \n",
      "25894  <p>My water pressure measures 80psi. When I sh...   \n",
      "25895  <p>At my new house there's already a <code>Lif...   \n",
      "25896  <p>This is the 2nd washing machine that has th...   \n",
      "25897  <p>I recently ordered an led strip off of amaz...   \n",
      "25898  <p>I have a Simpson Delta 422 washing machine,...   \n",
      "25899  <p>My house flooded with about 2 feet of water...   \n",
      "25900  <p>What would be the cheapest way to reduce ec...   \n",
      "25901  <p>As I seem to be collecting more and more De...   \n",
      "25902  <p>We have well water and Im unsure if that is...   \n",
      "25903  <p>I have been trying to find a solution for a...   \n",
      "25904  <p>We seem to have carpenter ants in our log h...   \n",
      "25905  <p>Have changed can lights to led, have some o...   \n",
      "25906  <p>Just got a strange issue where the kitchen ...   \n",
      "25907  <p>I live in a condo and want to change the do...   \n",
      "25908  <p>I need a new concrete subfloor due to water...   \n",
      "25909  <p>I know that code specifies the maximum hole...   \n",
      "25910  <p>Can you please tell me which wire/contact c...   \n",
      "25911  <p>I had a problem with a plug socket where th...   \n",
      "25912  <p>EDIT: I'm rephrasing the question, as it se...   \n",
      "25913  <p>I've got a major problem with rainfall wate...   \n",
      "25914  <p>I would like to add a second, remote thermo...   \n",
      "25915  <p>what could be the cause of this? The output...   \n",
      "25916  <p>This system is from the 60's era - the furn...   \n",
      "25917  <p>I have a problem, came home one morning to ...   \n",
      "\n",
      "                                                    tags  \n",
      "0                          remodeling basement carpentry  \n",
      "1                                      caulking bathroom  \n",
      "2                                                drywall  \n",
      "3                          walls load-bearing structural  \n",
      "4                                      repair electrical  \n",
      "5                                           crack stucco  \n",
      "6                                                    fan  \n",
      "7                                               radiator  \n",
      "8                                      drywall wallpaper  \n",
      "9                                                windows  \n",
      "10                                          vinyl-siding  \n",
      "11                                              concrete  \n",
      "12                                  repair radiator pipe  \n",
      "13                  electrical fire-hazard knob-and-tube  \n",
      "14                           drywall walls framing studs  \n",
      "15                                    paint floor garage  \n",
      "16                                                 tools  \n",
      "17                                        paint bathroom  \n",
      "18                                            tile grout  \n",
      "19                               plumbing sealing toilet  \n",
      "20                                      asphalt driveway  \n",
      "21                                    caulking technique  \n",
      "22                                    paint ceiling leak  \n",
      "23                                         lighting pole  \n",
      "24                               draft baseboard sealing  \n",
      "25                             repair roof pvc treehouse  \n",
      "26                                                 tools  \n",
      "27                                                  lawn  \n",
      "28                        water-heater energy-efficiency  \n",
      "29                                    concrete technique  \n",
      "...                                                  ...  \n",
      "25888  circuit-breaker dryer washing-machine troubles...  \n",
      "25889                              alarm carbon-monoxide  \n",
      "25890                                  recessed-lighting  \n",
      "25891                           electrical wiring switch  \n",
      "25892                       concrete damage cement porch  \n",
      "25893                                          generator  \n",
      "25894                                           plumbing  \n",
      "25895                                 garage-door-opener  \n",
      "25896                                    washing-machine  \n",
      "25897                                     electrical led  \n",
      "25898                                    washing-machine  \n",
      "25899                     exterior vapor-barrier plastic  \n",
      "25900                              noise noise-reduction  \n",
      "25901                            plastic storage drawers  \n",
      "25902                          water water-pressure well  \n",
      "25903                         kitchens sealing carpentry  \n",
      "25904                                       pest-control  \n",
      "25905                            electrical-distribution  \n",
      "25906                                               sink  \n",
      "25907                                        doors knobs  \n",
      "25908                         concrete subfloor hardwood  \n",
      "25909                                  electrical wiring  \n",
      "25910                                         electrical  \n",
      "25911                           electrical wiring socket  \n",
      "25912    electrical wiring lighting light-fixture safety  \n",
      "25913                           water foundation grading  \n",
      "25914                                         thermostat  \n",
      "25915                                         electrical  \n",
      "25916                                  thermostat-c-wire  \n",
      "25917                                electrical lighting  \n",
      "\n",
      "[25918 rows x 4 columns]\n"
     ]
    }
   ],
   "source": [
    "print(df['diy'])"
   ]
  },
  {
   "cell_type": "code",
   "execution_count": 10,
   "metadata": {
    "collapsed": true
   },
   "outputs": [],
   "source": [
    "#remove tags and uri from content\n",
    "for key,data in df.items():\n",
    "    data['content']=data['content'].map(stripTagsURI)\n",
    "#remove non-ascii and punct from content and title\n",
    "#stop words from content and title\n",
    "for key,data in df.items():\n",
    "    data['content']=data['content'].map(removePunct)\n",
    "    data['title']=data['title'].map(removePunct)\n",
    "    data['content']=data['content'].map(removeStopWords)\n",
    "    data['title']=data['title'].map(removeStopWords)\n",
    "    data['tags']=data['tags'].map(listTags)\n",
    "    "
   ]
  },
  {
   "cell_type": "code",
   "execution_count": 74,
   "metadata": {},
   "outputs": [
    {
     "name": "stdout",
     "output_type": "stream",
     "text": [
      "best easiest way paint edges \n",
      "lot interior painting lately always find edges   ceiling  windows  baseboards  etc    tedious   \n",
      "what best way paint edges   old fashioned cut brush   special edging tools home stores   method \n",
      "\n",
      "['insulation', 'basement', 'energy efficiency']\n"
     ]
    }
   ],
   "source": [
    "print(df['diy'].iloc[122]['title'])\n",
    "print(df['diy'].iloc[122]['content'])\n",
    "print(df['diy'].iloc[113]['tags'])"
   ]
  },
  {
   "cell_type": "code",
   "execution_count": 77,
   "metadata": {
    "collapsed": true
   },
   "outputs": [],
   "source": [
    "totalTags=set()\n",
    "for dfx in df.values():\n",
    "    for x in dfx.iloc[:,3]:\n",
    "        for y in x:\n",
    "            totalTags.add(y)"
   ]
  },
  {
   "cell_type": "code",
   "execution_count": 11,
   "metadata": {},
   "outputs": [
    {
     "data": {
      "text/plain": [
       "4"
      ]
     },
     "execution_count": 11,
     "metadata": {},
     "output_type": "execute_result"
    }
   ],
   "source": []
  }
 ],
 "metadata": {
  "kernelspec": {
   "display_name": "Python 3",
   "language": "python",
   "name": "python3"
  },
  "language_info": {
   "codemirror_mode": {
    "name": "ipython",
    "version": 3
   },
   "file_extension": ".py",
   "mimetype": "text/x-python",
   "name": "python",
   "nbconvert_exporter": "python",
   "pygments_lexer": "ipython3",
   "version": "3.6.1"
  }
 },
 "nbformat": 4,
 "nbformat_minor": 2
}
